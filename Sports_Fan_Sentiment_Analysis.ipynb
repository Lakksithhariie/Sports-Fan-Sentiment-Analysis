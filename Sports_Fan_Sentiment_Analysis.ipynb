{
  "nbformat": 4,
  "nbformat_minor": 0,
  "metadata": {
    "colab": {
      "provenance": []
    },
    "kernelspec": {
      "name": "python3",
      "display_name": "Python 3"
    },
    "language_info": {
      "name": "python"
    }
  },
  "cells": [
    {
      "cell_type": "code",
      "source": [
        "import praw\n",
        "import pandas as pd\n",
        "from datetime import datetime\n",
        "\n",
        "reddit = praw.Reddit(\n",
        "    client_id=\"lI82VgjEKpYWdM4I72nvXw\",\n",
        "    client_secret=\"japMiiHUuFFhkhxeI4kce8ULzpNNVg\",\n",
        "    user_agent=\"agent xavier/Initial_Ad5864\"\n",
        ")\n",
        "\n",
        "SUBREDDIT_NAME = \"Wimbledon\"  # Try \"soccer\", \"nfl\", etc.\n",
        "POST_LIMIT = 50  # Reduce during testing"
      ],
      "metadata": {
        "id": "X08k4LVMjvoF"
      },
      "execution_count": 76,
      "outputs": []
    },
    {
      "cell_type": "code",
      "source": [
        "def scrape_reddit():\n",
        "    \"\"\"Collect posts and top-level comments\"\"\"\n",
        "    subreddit = reddit.subreddit(SUBREDDIT_NAME)\n",
        "\n",
        "    # Get posts\n",
        "    posts = []\n",
        "    for post in subreddit.new(limit=POST_LIMIT):\n",
        "        posts.append({\n",
        "            \"id\": post.id,\n",
        "            \"title\": post.title,\n",
        "            \"author\": str(post.author),\n",
        "            \"timestamp\": datetime.fromtimestamp(post.created_utc),\n",
        "            \"text\": post.selftext\n",
        "        })\n",
        "\n",
        "    # Get comments\n",
        "    comments = []\n",
        "    for post in posts:\n",
        "        submission = reddit.submission(id=post[\"id\"])\n",
        "        submission.comments.replace_more(limit=0)  # Skip nested comments\n",
        "        for comment in submission.comments.list():\n",
        "            comments.append({\n",
        "                \"post_id\": post[\"id\"],\n",
        "                \"text\": comment.body,\n",
        "                \"author\": str(comment.author),\n",
        "                \"timestamp\": datetime.fromtimestamp(comment.created_utc)\n",
        "            })\n",
        "\n",
        "    return pd.DataFrame(posts), pd.DataFrame(comments)\n",
        "\n",
        "posts_df, comments_df = scrape_reddit()\n",
        "print(f\"Scraped {len(posts_df)} posts and {len(comments_df)} comments\")"
      ],
      "metadata": {
        "colab": {
          "base_uri": "https://localhost:8080/"
        },
        "id": "OjKnTel7j4Cy",
        "outputId": "3f566283-0a48-4586-9b82-b40cd6d5cce1"
      },
      "execution_count": 77,
      "outputs": [
        {
          "output_type": "stream",
          "name": "stderr",
          "text": [
            "WARNING:praw:It appears that you are using PRAW in an asynchronous environment.\n",
            "It is strongly recommended to use Async PRAW: https://asyncpraw.readthedocs.io.\n",
            "See https://praw.readthedocs.io/en/latest/getting_started/multiple_instances.html#discord-bots-and-asynchronous-environments for more info.\n",
            "\n",
            "WARNING:praw:It appears that you are using PRAW in an asynchronous environment.\n",
            "It is strongly recommended to use Async PRAW: https://asyncpraw.readthedocs.io.\n",
            "See https://praw.readthedocs.io/en/latest/getting_started/multiple_instances.html#discord-bots-and-asynchronous-environments for more info.\n",
            "\n",
            "WARNING:praw:It appears that you are using PRAW in an asynchronous environment.\n",
            "It is strongly recommended to use Async PRAW: https://asyncpraw.readthedocs.io.\n",
            "See https://praw.readthedocs.io/en/latest/getting_started/multiple_instances.html#discord-bots-and-asynchronous-environments for more info.\n",
            "\n",
            "WARNING:praw:It appears that you are using PRAW in an asynchronous environment.\n",
            "It is strongly recommended to use Async PRAW: https://asyncpraw.readthedocs.io.\n",
            "See https://praw.readthedocs.io/en/latest/getting_started/multiple_instances.html#discord-bots-and-asynchronous-environments for more info.\n",
            "\n",
            "WARNING:praw:It appears that you are using PRAW in an asynchronous environment.\n",
            "It is strongly recommended to use Async PRAW: https://asyncpraw.readthedocs.io.\n",
            "See https://praw.readthedocs.io/en/latest/getting_started/multiple_instances.html#discord-bots-and-asynchronous-environments for more info.\n",
            "\n",
            "WARNING:praw:It appears that you are using PRAW in an asynchronous environment.\n",
            "It is strongly recommended to use Async PRAW: https://asyncpraw.readthedocs.io.\n",
            "See https://praw.readthedocs.io/en/latest/getting_started/multiple_instances.html#discord-bots-and-asynchronous-environments for more info.\n",
            "\n",
            "WARNING:praw:It appears that you are using PRAW in an asynchronous environment.\n",
            "It is strongly recommended to use Async PRAW: https://asyncpraw.readthedocs.io.\n",
            "See https://praw.readthedocs.io/en/latest/getting_started/multiple_instances.html#discord-bots-and-asynchronous-environments for more info.\n",
            "\n",
            "WARNING:praw:It appears that you are using PRAW in an asynchronous environment.\n",
            "It is strongly recommended to use Async PRAW: https://asyncpraw.readthedocs.io.\n",
            "See https://praw.readthedocs.io/en/latest/getting_started/multiple_instances.html#discord-bots-and-asynchronous-environments for more info.\n",
            "\n",
            "WARNING:praw:It appears that you are using PRAW in an asynchronous environment.\n",
            "It is strongly recommended to use Async PRAW: https://asyncpraw.readthedocs.io.\n",
            "See https://praw.readthedocs.io/en/latest/getting_started/multiple_instances.html#discord-bots-and-asynchronous-environments for more info.\n",
            "\n",
            "WARNING:praw:It appears that you are using PRAW in an asynchronous environment.\n",
            "It is strongly recommended to use Async PRAW: https://asyncpraw.readthedocs.io.\n",
            "See https://praw.readthedocs.io/en/latest/getting_started/multiple_instances.html#discord-bots-and-asynchronous-environments for more info.\n",
            "\n",
            "WARNING:praw:It appears that you are using PRAW in an asynchronous environment.\n",
            "It is strongly recommended to use Async PRAW: https://asyncpraw.readthedocs.io.\n",
            "See https://praw.readthedocs.io/en/latest/getting_started/multiple_instances.html#discord-bots-and-asynchronous-environments for more info.\n",
            "\n",
            "WARNING:praw:It appears that you are using PRAW in an asynchronous environment.\n",
            "It is strongly recommended to use Async PRAW: https://asyncpraw.readthedocs.io.\n",
            "See https://praw.readthedocs.io/en/latest/getting_started/multiple_instances.html#discord-bots-and-asynchronous-environments for more info.\n",
            "\n",
            "WARNING:praw:It appears that you are using PRAW in an asynchronous environment.\n",
            "It is strongly recommended to use Async PRAW: https://asyncpraw.readthedocs.io.\n",
            "See https://praw.readthedocs.io/en/latest/getting_started/multiple_instances.html#discord-bots-and-asynchronous-environments for more info.\n",
            "\n",
            "WARNING:praw:It appears that you are using PRAW in an asynchronous environment.\n",
            "It is strongly recommended to use Async PRAW: https://asyncpraw.readthedocs.io.\n",
            "See https://praw.readthedocs.io/en/latest/getting_started/multiple_instances.html#discord-bots-and-asynchronous-environments for more info.\n",
            "\n",
            "WARNING:praw:It appears that you are using PRAW in an asynchronous environment.\n",
            "It is strongly recommended to use Async PRAW: https://asyncpraw.readthedocs.io.\n",
            "See https://praw.readthedocs.io/en/latest/getting_started/multiple_instances.html#discord-bots-and-asynchronous-environments for more info.\n",
            "\n",
            "WARNING:praw:It appears that you are using PRAW in an asynchronous environment.\n",
            "It is strongly recommended to use Async PRAW: https://asyncpraw.readthedocs.io.\n",
            "See https://praw.readthedocs.io/en/latest/getting_started/multiple_instances.html#discord-bots-and-asynchronous-environments for more info.\n",
            "\n",
            "WARNING:praw:It appears that you are using PRAW in an asynchronous environment.\n",
            "It is strongly recommended to use Async PRAW: https://asyncpraw.readthedocs.io.\n",
            "See https://praw.readthedocs.io/en/latest/getting_started/multiple_instances.html#discord-bots-and-asynchronous-environments for more info.\n",
            "\n",
            "WARNING:praw:It appears that you are using PRAW in an asynchronous environment.\n",
            "It is strongly recommended to use Async PRAW: https://asyncpraw.readthedocs.io.\n",
            "See https://praw.readthedocs.io/en/latest/getting_started/multiple_instances.html#discord-bots-and-asynchronous-environments for more info.\n",
            "\n",
            "WARNING:praw:It appears that you are using PRAW in an asynchronous environment.\n",
            "It is strongly recommended to use Async PRAW: https://asyncpraw.readthedocs.io.\n",
            "See https://praw.readthedocs.io/en/latest/getting_started/multiple_instances.html#discord-bots-and-asynchronous-environments for more info.\n",
            "\n",
            "WARNING:praw:It appears that you are using PRAW in an asynchronous environment.\n",
            "It is strongly recommended to use Async PRAW: https://asyncpraw.readthedocs.io.\n",
            "See https://praw.readthedocs.io/en/latest/getting_started/multiple_instances.html#discord-bots-and-asynchronous-environments for more info.\n",
            "\n",
            "WARNING:praw:It appears that you are using PRAW in an asynchronous environment.\n",
            "It is strongly recommended to use Async PRAW: https://asyncpraw.readthedocs.io.\n",
            "See https://praw.readthedocs.io/en/latest/getting_started/multiple_instances.html#discord-bots-and-asynchronous-environments for more info.\n",
            "\n",
            "WARNING:praw:It appears that you are using PRAW in an asynchronous environment.\n",
            "It is strongly recommended to use Async PRAW: https://asyncpraw.readthedocs.io.\n",
            "See https://praw.readthedocs.io/en/latest/getting_started/multiple_instances.html#discord-bots-and-asynchronous-environments for more info.\n",
            "\n",
            "WARNING:praw:It appears that you are using PRAW in an asynchronous environment.\n",
            "It is strongly recommended to use Async PRAW: https://asyncpraw.readthedocs.io.\n",
            "See https://praw.readthedocs.io/en/latest/getting_started/multiple_instances.html#discord-bots-and-asynchronous-environments for more info.\n",
            "\n",
            "WARNING:praw:It appears that you are using PRAW in an asynchronous environment.\n",
            "It is strongly recommended to use Async PRAW: https://asyncpraw.readthedocs.io.\n",
            "See https://praw.readthedocs.io/en/latest/getting_started/multiple_instances.html#discord-bots-and-asynchronous-environments for more info.\n",
            "\n",
            "WARNING:praw:It appears that you are using PRAW in an asynchronous environment.\n",
            "It is strongly recommended to use Async PRAW: https://asyncpraw.readthedocs.io.\n",
            "See https://praw.readthedocs.io/en/latest/getting_started/multiple_instances.html#discord-bots-and-asynchronous-environments for more info.\n",
            "\n",
            "WARNING:praw:It appears that you are using PRAW in an asynchronous environment.\n",
            "It is strongly recommended to use Async PRAW: https://asyncpraw.readthedocs.io.\n",
            "See https://praw.readthedocs.io/en/latest/getting_started/multiple_instances.html#discord-bots-and-asynchronous-environments for more info.\n",
            "\n",
            "WARNING:praw:It appears that you are using PRAW in an asynchronous environment.\n",
            "It is strongly recommended to use Async PRAW: https://asyncpraw.readthedocs.io.\n",
            "See https://praw.readthedocs.io/en/latest/getting_started/multiple_instances.html#discord-bots-and-asynchronous-environments for more info.\n",
            "\n",
            "WARNING:praw:It appears that you are using PRAW in an asynchronous environment.\n",
            "It is strongly recommended to use Async PRAW: https://asyncpraw.readthedocs.io.\n",
            "See https://praw.readthedocs.io/en/latest/getting_started/multiple_instances.html#discord-bots-and-asynchronous-environments for more info.\n",
            "\n",
            "WARNING:praw:It appears that you are using PRAW in an asynchronous environment.\n",
            "It is strongly recommended to use Async PRAW: https://asyncpraw.readthedocs.io.\n",
            "See https://praw.readthedocs.io/en/latest/getting_started/multiple_instances.html#discord-bots-and-asynchronous-environments for more info.\n",
            "\n",
            "WARNING:praw:It appears that you are using PRAW in an asynchronous environment.\n",
            "It is strongly recommended to use Async PRAW: https://asyncpraw.readthedocs.io.\n",
            "See https://praw.readthedocs.io/en/latest/getting_started/multiple_instances.html#discord-bots-and-asynchronous-environments for more info.\n",
            "\n",
            "WARNING:praw:It appears that you are using PRAW in an asynchronous environment.\n",
            "It is strongly recommended to use Async PRAW: https://asyncpraw.readthedocs.io.\n",
            "See https://praw.readthedocs.io/en/latest/getting_started/multiple_instances.html#discord-bots-and-asynchronous-environments for more info.\n",
            "\n",
            "WARNING:praw:It appears that you are using PRAW in an asynchronous environment.\n",
            "It is strongly recommended to use Async PRAW: https://asyncpraw.readthedocs.io.\n",
            "See https://praw.readthedocs.io/en/latest/getting_started/multiple_instances.html#discord-bots-and-asynchronous-environments for more info.\n",
            "\n",
            "WARNING:praw:It appears that you are using PRAW in an asynchronous environment.\n",
            "It is strongly recommended to use Async PRAW: https://asyncpraw.readthedocs.io.\n",
            "See https://praw.readthedocs.io/en/latest/getting_started/multiple_instances.html#discord-bots-and-asynchronous-environments for more info.\n",
            "\n",
            "WARNING:praw:It appears that you are using PRAW in an asynchronous environment.\n",
            "It is strongly recommended to use Async PRAW: https://asyncpraw.readthedocs.io.\n",
            "See https://praw.readthedocs.io/en/latest/getting_started/multiple_instances.html#discord-bots-and-asynchronous-environments for more info.\n",
            "\n",
            "WARNING:praw:It appears that you are using PRAW in an asynchronous environment.\n",
            "It is strongly recommended to use Async PRAW: https://asyncpraw.readthedocs.io.\n",
            "See https://praw.readthedocs.io/en/latest/getting_started/multiple_instances.html#discord-bots-and-asynchronous-environments for more info.\n",
            "\n",
            "WARNING:praw:It appears that you are using PRAW in an asynchronous environment.\n",
            "It is strongly recommended to use Async PRAW: https://asyncpraw.readthedocs.io.\n",
            "See https://praw.readthedocs.io/en/latest/getting_started/multiple_instances.html#discord-bots-and-asynchronous-environments for more info.\n",
            "\n",
            "WARNING:praw:It appears that you are using PRAW in an asynchronous environment.\n",
            "It is strongly recommended to use Async PRAW: https://asyncpraw.readthedocs.io.\n",
            "See https://praw.readthedocs.io/en/latest/getting_started/multiple_instances.html#discord-bots-and-asynchronous-environments for more info.\n",
            "\n",
            "WARNING:praw:It appears that you are using PRAW in an asynchronous environment.\n",
            "It is strongly recommended to use Async PRAW: https://asyncpraw.readthedocs.io.\n",
            "See https://praw.readthedocs.io/en/latest/getting_started/multiple_instances.html#discord-bots-and-asynchronous-environments for more info.\n",
            "\n",
            "WARNING:praw:It appears that you are using PRAW in an asynchronous environment.\n",
            "It is strongly recommended to use Async PRAW: https://asyncpraw.readthedocs.io.\n",
            "See https://praw.readthedocs.io/en/latest/getting_started/multiple_instances.html#discord-bots-and-asynchronous-environments for more info.\n",
            "\n",
            "WARNING:praw:It appears that you are using PRAW in an asynchronous environment.\n",
            "It is strongly recommended to use Async PRAW: https://asyncpraw.readthedocs.io.\n",
            "See https://praw.readthedocs.io/en/latest/getting_started/multiple_instances.html#discord-bots-and-asynchronous-environments for more info.\n",
            "\n",
            "WARNING:praw:It appears that you are using PRAW in an asynchronous environment.\n",
            "It is strongly recommended to use Async PRAW: https://asyncpraw.readthedocs.io.\n",
            "See https://praw.readthedocs.io/en/latest/getting_started/multiple_instances.html#discord-bots-and-asynchronous-environments for more info.\n",
            "\n",
            "WARNING:praw:It appears that you are using PRAW in an asynchronous environment.\n",
            "It is strongly recommended to use Async PRAW: https://asyncpraw.readthedocs.io.\n",
            "See https://praw.readthedocs.io/en/latest/getting_started/multiple_instances.html#discord-bots-and-asynchronous-environments for more info.\n",
            "\n",
            "WARNING:praw:It appears that you are using PRAW in an asynchronous environment.\n",
            "It is strongly recommended to use Async PRAW: https://asyncpraw.readthedocs.io.\n",
            "See https://praw.readthedocs.io/en/latest/getting_started/multiple_instances.html#discord-bots-and-asynchronous-environments for more info.\n",
            "\n",
            "WARNING:praw:It appears that you are using PRAW in an asynchronous environment.\n",
            "It is strongly recommended to use Async PRAW: https://asyncpraw.readthedocs.io.\n",
            "See https://praw.readthedocs.io/en/latest/getting_started/multiple_instances.html#discord-bots-and-asynchronous-environments for more info.\n",
            "\n",
            "WARNING:praw:It appears that you are using PRAW in an asynchronous environment.\n",
            "It is strongly recommended to use Async PRAW: https://asyncpraw.readthedocs.io.\n",
            "See https://praw.readthedocs.io/en/latest/getting_started/multiple_instances.html#discord-bots-and-asynchronous-environments for more info.\n",
            "\n",
            "WARNING:praw:It appears that you are using PRAW in an asynchronous environment.\n",
            "It is strongly recommended to use Async PRAW: https://asyncpraw.readthedocs.io.\n",
            "See https://praw.readthedocs.io/en/latest/getting_started/multiple_instances.html#discord-bots-and-asynchronous-environments for more info.\n",
            "\n",
            "WARNING:praw:It appears that you are using PRAW in an asynchronous environment.\n",
            "It is strongly recommended to use Async PRAW: https://asyncpraw.readthedocs.io.\n",
            "See https://praw.readthedocs.io/en/latest/getting_started/multiple_instances.html#discord-bots-and-asynchronous-environments for more info.\n",
            "\n",
            "WARNING:praw:It appears that you are using PRAW in an asynchronous environment.\n",
            "It is strongly recommended to use Async PRAW: https://asyncpraw.readthedocs.io.\n",
            "See https://praw.readthedocs.io/en/latest/getting_started/multiple_instances.html#discord-bots-and-asynchronous-environments for more info.\n",
            "\n",
            "WARNING:praw:It appears that you are using PRAW in an asynchronous environment.\n",
            "It is strongly recommended to use Async PRAW: https://asyncpraw.readthedocs.io.\n",
            "See https://praw.readthedocs.io/en/latest/getting_started/multiple_instances.html#discord-bots-and-asynchronous-environments for more info.\n",
            "\n",
            "WARNING:praw:It appears that you are using PRAW in an asynchronous environment.\n",
            "It is strongly recommended to use Async PRAW: https://asyncpraw.readthedocs.io.\n",
            "See https://praw.readthedocs.io/en/latest/getting_started/multiple_instances.html#discord-bots-and-asynchronous-environments for more info.\n",
            "\n",
            "WARNING:praw:It appears that you are using PRAW in an asynchronous environment.\n",
            "It is strongly recommended to use Async PRAW: https://asyncpraw.readthedocs.io.\n",
            "See https://praw.readthedocs.io/en/latest/getting_started/multiple_instances.html#discord-bots-and-asynchronous-environments for more info.\n",
            "\n"
          ]
        },
        {
          "output_type": "stream",
          "name": "stdout",
          "text": [
            "Scraped 50 posts and 564 comments\n"
          ]
        }
      ]
    },
    {
      "cell_type": "code",
      "source": [
        "import re\n",
        "\n",
        "def clean_text(text):\n",
        "    \"\"\"Fast text preprocessing for sports comments\"\"\"\n",
        "    text = re.sub(r'http\\S+', '', text)  # Remove URLs\n",
        "    text = re.sub(r'[^a-zA-Z0-9\\s.,!?]', '', text)  # Keep basic punctuation\n",
        "    text = text.lower().strip()\n",
        "    return text\n",
        "\n",
        "comments_df['cleaned_text'] = comments_df['text'].apply(clean_text)\n",
        "posts_df['cleaned_text'] = posts_df['text'].apply(clean_text)\n",
        "\n",
        "# Preview\n",
        "print(\"Original:\", comments_df.iloc[0]['text'])\n",
        "print(\"Cleaned:\", comments_df.iloc[0]['cleaned_text'])"
      ],
      "metadata": {
        "colab": {
          "base_uri": "https://localhost:8080/"
        },
        "id": "DOqFSPr3j_fo",
        "outputId": "61d1e4b4-e94c-477d-c66d-648e784dd2c7"
      },
      "execution_count": 78,
      "outputs": [
        {
          "output_type": "stream",
          "name": "stdout",
          "text": [
            "Original: High chance. Second round on the second biggest court. \n",
            "\n",
            "Last year on that day were two all British battles, Dart vs. Boulter, Norrie vs. Draper plus 4th seed Zverev and an extra match Fernandez vs. Wozniacki.\n",
            "\n",
            "Would usually expect at least one top 5 seed men's or women's.\n",
            "Cleaned: high chance. second round on the second biggest court. \n",
            "\n",
            "last year on that day were two all british battles, dart vs. boulter, norrie vs. draper plus 4th seed zverev and an extra match fernandez vs. wozniacki.\n",
            "\n",
            "would usually expect at least one top 5 seed mens or womens.\n"
          ]
        }
      ]
    },
    {
      "cell_type": "code",
      "source": [
        "from groq import Groq\n",
        "import json\n",
        "\n",
        "client = Groq(api_key=\"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\")\n",
        "\n",
        "def analyze_comment(text):\n",
        "    \"\"\"Get aspects and sentiments using LLaMA-3-70B\"\"\"\n",
        "    response = client.chat.completions.create(\n",
        "        messages=[{\n",
        "            \"role\": \"user\",\n",
        "            \"content\": f\"\"\"\n",
        "            Analyze this sports fan comment. Identify specific aspects and their sentiments.\n",
        "            Return JSON ONLY: {{\"aspects\": [{{\"aspect\": \"...\", \"sentiment\": \"positive|neutral|negative\"}}]}}\n",
        "\n",
        "            Comment: {text}\n",
        "            \"\"\"\n",
        "        }],\n",
        "        model=\"llama-3.3-70b-versatile\",\n",
        "        temperature=0.1\n",
        "    )\n",
        "    try:\n",
        "        return json.loads(response.choices[0].message.content)\n",
        "    except:\n",
        "        return {\"aspects\": []}\n",
        "\n",
        "# Test\n",
        "test_response = analyze_comment(\"Djokovic rolls into 10th Wimbledon final\")\n",
        "print(test_response)"
      ],
      "metadata": {
        "colab": {
          "base_uri": "https://localhost:8080/"
        },
        "id": "emHxssNVkBjv",
        "outputId": "7b0c1a42-d6de-4259-82ba-0de0448177d0"
      },
      "execution_count": 84,
      "outputs": [
        {
          "output_type": "stream",
          "name": "stdout",
          "text": [
            "{'aspects': [{'aspect': 'Djokovic', 'sentiment': 'positive'}, {'aspect': 'Wimbledon final', 'sentiment': 'positive'}]}\n"
          ]
        }
      ]
    },
    {
      "cell_type": "code",
      "source": [
        "from tqdm import tqdm\n",
        "\n",
        "# Process first 50 comments for testing\n",
        "sample_comments = comments_df['cleaned_text'].head(50).tolist()\n",
        "\n",
        "aspect_results = []\n",
        "for comment in tqdm(sample_comments):\n",
        "    result = analyze_comment(comment)\n",
        "    for aspect in result['aspects']:\n",
        "        aspect_results.append({\n",
        "            \"comment\": comment,\n",
        "            \"aspect\": aspect['aspect'],\n",
        "            \"sentiment\": aspect['sentiment']\n",
        "        })\n",
        "\n",
        "aspects_df = pd.DataFrame(aspect_results)\n",
        "print(aspects_df.head())"
      ],
      "metadata": {
        "colab": {
          "base_uri": "https://localhost:8080/"
        },
        "id": "MYljwOTGk-5i",
        "outputId": "8ffe0b5a-aec4-4c2e-dc1e-8d631ad08e76"
      },
      "execution_count": 85,
      "outputs": [
        {
          "output_type": "stream",
          "name": "stderr",
          "text": [
            "100%|██████████| 50/50 [01:09<00:00,  1.39s/it]"
          ]
        },
        {
          "output_type": "stream",
          "name": "stdout",
          "text": [
            "                                             comment  \\\n",
            "0  high chance. second round on the second bigges...   \n",
            "1  high chance. second round on the second bigges...   \n",
            "2  high chance. second round on the second bigges...   \n",
            "3  high chance. second round on the second bigges...   \n",
            "4  yeah i would expect at least one british playe...   \n",
            "\n",
            "                           aspect sentiment  \n",
            "0                court assignment   neutral  \n",
            "1                    match lineup  negative  \n",
            "2             last year's matches   neutral  \n",
            "3               seed expectations  negative  \n",
            "4  expectation of British players   neutral  \n"
          ]
        },
        {
          "output_type": "stream",
          "name": "stderr",
          "text": [
            "\n"
          ]
        }
      ]
    },
    {
      "cell_type": "code",
      "source": [
        "# Convert sentiments to numerical scores\n",
        "sentiment_map = {'positive': 1, 'neutral': 0, 'negative': -1}\n",
        "aspects_df['score'] = aspects_df['sentiment'].map(sentiment_map)\n",
        "\n",
        "# Group by aspect\n",
        "aspect_summary = aspects_df.groupby('aspect')['score'].agg(\n",
        "    avg_score='mean',\n",
        "    count='size'\n",
        ").reset_index().sort_values('count', ascending=False)\n",
        "\n",
        "print(aspect_summary.head(10))"
      ],
      "metadata": {
        "colab": {
          "base_uri": "https://localhost:8080/"
        },
        "id": "49tH9QjDlbox",
        "outputId": "0d28a592-6cd2-41a1-fd5a-896405706e37"
      },
      "execution_count": 86,
      "outputs": [
        {
          "output_type": "stream",
          "name": "stdout",
          "text": [
            "                                aspect  avg_score  count\n",
            "64                       seat location      0.125      8\n",
            "87                             tickets      1.000      4\n",
            "48                  overall experience      1.000      3\n",
            "79                    team performance      1.000      3\n",
            "54                               price      0.500      2\n",
            "31                          experience      1.000      2\n",
            "0                      2 court tickets      0.000      1\n",
            "63                        screen setup      1.000      1\n",
            "70                    seating location      0.000      1\n",
            "69  seating comparison to Centre Court      1.000      1\n"
          ]
        }
      ]
    },
    {
      "cell_type": "code",
      "source": [
        "# Merge timestamps from original comments\n",
        "aspects_df = aspects_df.merge(\n",
        "    comments_df[['cleaned_text', 'timestamp']],\n",
        "    left_on='comment',\n",
        "    right_on='cleaned_text'\n",
        ")\n",
        "\n",
        "# Hourly sentiment aggregation\n",
        "aspects_df['hour'] = aspects_df['timestamp'].dt.floor('H')\n",
        "time_series = aspects_df.groupby(['hour', 'aspect'])['score'].mean().unstack()\n",
        "\n",
        "time_series.fillna(0, inplace=True)\n",
        "print(time_series.head())"
      ],
      "metadata": {
        "colab": {
          "base_uri": "https://localhost:8080/"
        },
        "id": "8d7UNkjrlebV",
        "outputId": "e9c9ed5c-8150-4b92-cd4c-0cfd65610141"
      },
      "execution_count": 87,
      "outputs": [
        {
          "output_type": "stream",
          "name": "stdout",
          "text": [
            "aspect               2 court tickets  Alcaraz  Centre Court Super Saturday  \\\n",
            "hour                                                                         \n",
            "2024-11-16 01:00:00              0.0      0.0                          0.0   \n",
            "2025-01-29 14:00:00              0.0      0.0                          0.0   \n",
            "2025-01-29 15:00:00              0.0      0.0                          0.0   \n",
            "2025-01-29 16:00:00              0.0      0.0                          0.0   \n",
            "2025-01-29 17:00:00              0.0      0.0                          1.0   \n",
            "\n",
            "aspect               Centre Court tickets  Henman Hill  Super Saturday  \\\n",
            "hour                                                                     \n",
            "2024-11-16 01:00:00                   0.0          0.0             0.0   \n",
            "2025-01-29 14:00:00                   0.0          0.0             1.0   \n",
            "2025-01-29 15:00:00                   0.0          0.0             0.0   \n",
            "2025-01-29 16:00:00                   0.0          0.0             0.0   \n",
            "2025-01-29 17:00:00                   0.0          0.0             0.0   \n",
            "\n",
            "aspect               Wimbledon experience  Wimbledon public ballot  \\\n",
            "hour                                                                 \n",
            "2024-11-16 01:00:00                   0.0                      0.0   \n",
            "2025-01-29 14:00:00                   1.0                      0.0   \n",
            "2025-01-29 15:00:00                   0.0                      0.0   \n",
            "2025-01-29 16:00:00                   0.0                      0.0   \n",
            "2025-01-29 17:00:00                   0.0                      0.0   \n",
            "\n",
            "aspect               application process  atmosphere  ...  top players  \\\n",
            "hour                                                  ...                \n",
            "2024-11-16 01:00:00                  0.0         0.0  ...          0.0   \n",
            "2025-01-29 14:00:00                  0.0         0.0  ...          0.0   \n",
            "2025-01-29 15:00:00                  0.0         0.0  ...          0.0   \n",
            "2025-01-29 16:00:00                  0.0         0.0  ...          0.0   \n",
            "2025-01-29 17:00:00                  0.0         0.0  ...          0.0   \n",
            "\n",
            "aspect               tournament organization  tv representation  \\\n",
            "hour                                                              \n",
            "2024-11-16 01:00:00                      0.0                0.0   \n",
            "2025-01-29 14:00:00                      0.0                0.0   \n",
            "2025-01-29 15:00:00                      0.0                0.0   \n",
            "2025-01-29 16:00:00                      0.0                0.0   \n",
            "2025-01-29 17:00:00                      0.0                0.0   \n",
            "\n",
            "aspect               view from back row seats  view of centre court  \\\n",
            "hour                                                                  \n",
            "2024-11-16 01:00:00                       0.0                   0.0   \n",
            "2025-01-29 14:00:00                       0.0                   0.0   \n",
            "2025-01-29 15:00:00                       0.0                   0.0   \n",
            "2025-01-29 16:00:00                       0.0                   0.0   \n",
            "2025-01-29 17:00:00                       0.0                   0.0   \n",
            "\n",
            "aspect               viewing experience  \\\n",
            "hour                                      \n",
            "2024-11-16 01:00:00                 0.0   \n",
            "2025-01-29 14:00:00                 0.0   \n",
            "2025-01-29 15:00:00                 0.0   \n",
            "2025-01-29 16:00:00                 0.0   \n",
            "2025-01-29 17:00:00                 0.0   \n",
            "\n",
            "aspect               watching the mens semis on the henman hill  website view  \\\n",
            "hour                                                                            \n",
            "2024-11-16 01:00:00                                         0.0           0.0   \n",
            "2025-01-29 14:00:00                                         0.0           0.0   \n",
            "2025-01-29 15:00:00                                         0.0           0.0   \n",
            "2025-01-29 16:00:00                                         0.0           0.0   \n",
            "2025-01-29 17:00:00                                         0.0           0.0   \n",
            "\n",
            "aspect               week 1 of tennis  womens semifinals day  \n",
            "hour                                                          \n",
            "2024-11-16 01:00:00               0.0                    0.0  \n",
            "2025-01-29 14:00:00               0.0                    0.0  \n",
            "2025-01-29 15:00:00               0.0                    0.0  \n",
            "2025-01-29 16:00:00               0.0                    0.0  \n",
            "2025-01-29 17:00:00               0.0                    0.0  \n",
            "\n",
            "[5 rows x 98 columns]\n"
          ]
        }
      ]
    },
    {
      "cell_type": "code",
      "source": [
        "# Find aspects that make up 90% of all mentions\n",
        "aspect_summary['cumulative'] = aspect_summary['count'].cumsum() / aspect_summary['count'].sum()\n",
        "valid_aspects = aspect_summary[aspect_summary['cumulative'] <= 0.9]['aspect'].tolist()\n",
        "\n",
        "# If still too few, use relative threshold\n",
        "min_threshold = max(2, int(len(aspects_df)*0.001))  # At least 2 mentions or 0.1% of total\n",
        "valid_aspects_fallback = aspect_summary[aspect_summary['count'] >= min_threshold]['aspect'].tolist()\n",
        "\n",
        "valid_aspects = list(set(valid_aspects + valid_aspects_fallback))\n",
        "filtered_series = time_series[valid_aspects]\n",
        "\n",
        "print(f\"Selected {len(valid_aspects)} aspects:\", valid_aspects)\n",
        "print(\"\\nAspect frequency distribution:\")\n",
        "print(aspect_summary.head(10))"
      ],
      "metadata": {
        "colab": {
          "base_uri": "https://localhost:8080/"
        },
        "id": "hpmg6di4l4o8",
        "outputId": "ed346290-1309-4aaa-9c73-0398bb785790"
      },
      "execution_count": 96,
      "outputs": [
        {
          "output_type": "stream",
          "name": "stdout",
          "text": [
            "Selected 86 aspects: ['attendance', 'ticket price', 'screen setup', 'Wimbledon experience', 'match variety', 'personal experience or wish', 'tournament organization', 'memory', 'attitude towards missing email', 'stadium size', 'atmosphere', 'receiving a nonsuccess email', 'past decade of not winning', 'obtaining tickets', 'seating on No. 1 Court', 'seat price', \"author's attitude towards the post\", 'day 4 of the event', \"last year's matches\", 'ticket prices', 'mywimbledon website', 'court experience', 'court assignment', 'self-description as optimist', \"team's chances\", 'match lineup', 'week 1 of tennis', 'website view', 'submission process', 'refund policy', 'chance of seeing big names', 'seat pricing', 'seat quality', 'Centre Court Super Saturday', 'team spirit', 'ticket swapping', 'chance of Alcaraz or Djokovic on Court 1', 'draw and scheduling', 'seat location', 'overall tone', 'guaranteed play', 'seating location', 'team performance', 'seed expectations', 'opinion', 'Alcaraz', 'application process', '2 court tickets', 'top players', \"previous year's seating on Centre Court\", 'helpfulness', 'Wimbledon public ballot', 'watching the mens semis on the henman hill', 'view of centre court', 'missing the match', 'schedule tradition', 'ticket allocation', 'communication', 'view from back row seats', 'overall opinion', 'overall experience', 'comparison to last year', 'scheduling', 'draw', 'seat quality on No. 1 Court', 'seating comparison to Centre Court', 'Henman Hill', 'rain', 'email notification', 'tv representation', 'public ballot', 'current tickets', 'missing tennis due to rain', 'tickets', 'ticket resale', 'Super Saturday', 'experience', 'viewing experience', 'team or player reference', 'receiving tickets', 'Centre Court tickets', 'quarter finals tickets', 'price', 'customer service', 'support', 'team or player performance']\n",
            "\n",
            "Aspect frequency distribution:\n",
            "                                aspect  avg_score  count  cumulative\n",
            "64                       seat location      0.125      8    0.070175\n",
            "87                             tickets      1.000      4    0.105263\n",
            "48                  overall experience      1.000      3    0.131579\n",
            "79                    team performance      1.000      3    0.157895\n",
            "54                               price      0.500      2    0.175439\n",
            "31                          experience      1.000      2    0.192982\n",
            "0                      2 court tickets      0.000      1    0.201754\n",
            "63                        screen setup      1.000      1    0.210526\n",
            "70                    seating location      0.000      1    0.219298\n",
            "69  seating comparison to Centre Court      1.000      1    0.228070\n"
          ]
        }
      ]
    },
    {
      "cell_type": "code",
      "source": [
        "import numpy as np\n",
        "from sklearn.preprocessing import MinMaxScaler\n",
        "\n",
        "# Normalize data between -1 and 1\n",
        "scaler = MinMaxScaler(feature_range=(-1, 1))\n",
        "scaled_data = scaler.fit_transform(filtered_series)\n",
        "\n",
        "# Create sequences for LSTM\n",
        "def create_sequences(data, window_size=6):\n",
        "    X, y = [], []\n",
        "    for i in range(len(data)-window_size):\n",
        "        X.append(data[i:i+window_size])\n",
        "        y.append(data[i+window_size])\n",
        "    return np.array(X), np.array(y)\n",
        "\n",
        "window_size = 4  # Hours of historical data to use\n",
        "X, y = create_sequences(scaled_data, window_size)\n",
        "\n",
        "# Split 80-20\n",
        "split = int(0.8 * len(X))\n",
        "X_train, X_test = X[:split], X[split:]\n",
        "y_train, y_test = y[:split], y[split:]\n",
        "\n",
        "print(f\"Training shape: {X_train.shape}, Test shape: {X_test.shape}\")"
      ],
      "metadata": {
        "colab": {
          "base_uri": "https://localhost:8080/"
        },
        "id": "CHRhhT19l8AL",
        "outputId": "db4e60af-ffaf-432c-e8fd-972d8957980d"
      },
      "execution_count": 97,
      "outputs": [
        {
          "output_type": "stream",
          "name": "stdout",
          "text": [
            "Training shape: (13, 4, 86), Test shape: (4, 4, 86)\n"
          ]
        }
      ]
    },
    {
      "cell_type": "code",
      "source": [
        "from tensorflow.keras.models import Sequential\n",
        "from tensorflow.keras.layers import LSTM, Dense, Dropout\n",
        "\n",
        "model = Sequential([\n",
        "    LSTM(64, input_shape=(window_size, len(valid_aspects)), return_sequences=True),\n",
        "    Dropout(0.2),\n",
        "    LSTM(32),\n",
        "    Dense(len(valid_aspects))\n",
        "])\n",
        "\n",
        "model.compile(optimizer='adam', loss='mse')\n",
        "model.summary()"
      ],
      "metadata": {
        "colab": {
          "base_uri": "https://localhost:8080/",
          "height": 312
        },
        "id": "BABbkvCamAQX",
        "outputId": "3ae37085-3087-44df-9369-fe8b50ec3235"
      },
      "execution_count": 98,
      "outputs": [
        {
          "output_type": "stream",
          "name": "stderr",
          "text": [
            "/usr/local/lib/python3.11/dist-packages/keras/src/layers/rnn/rnn.py:200: UserWarning: Do not pass an `input_shape`/`input_dim` argument to a layer. When using Sequential models, prefer using an `Input(shape)` object as the first layer in the model instead.\n",
            "  super().__init__(**kwargs)\n"
          ]
        },
        {
          "output_type": "display_data",
          "data": {
            "text/plain": [
              "\u001b[1mModel: \"sequential_1\"\u001b[0m\n"
            ],
            "text/html": [
              "<pre style=\"white-space:pre;overflow-x:auto;line-height:normal;font-family:Menlo,'DejaVu Sans Mono',consolas,'Courier New',monospace\"><span style=\"font-weight: bold\">Model: \"sequential_1\"</span>\n",
              "</pre>\n"
            ]
          },
          "metadata": {}
        },
        {
          "output_type": "display_data",
          "data": {
            "text/plain": [
              "┏━━━━━━━━━━━━━━━━━━━━━━━━━━━━━━━━━━━━━━┳━━━━━━━━━━━━━━━━━━━━━━━━━━━━━┳━━━━━━━━━━━━━━━━━┓\n",
              "┃\u001b[1m \u001b[0m\u001b[1mLayer (type)                        \u001b[0m\u001b[1m \u001b[0m┃\u001b[1m \u001b[0m\u001b[1mOutput Shape               \u001b[0m\u001b[1m \u001b[0m┃\u001b[1m \u001b[0m\u001b[1m        Param #\u001b[0m\u001b[1m \u001b[0m┃\n",
              "┡━━━━━━━━━━━━━━━━━━━━━━━━━━━━━━━━━━━━━━╇━━━━━━━━━━━━━━━━━━━━━━━━━━━━━╇━━━━━━━━━━━━━━━━━┩\n",
              "│ lstm_2 (\u001b[38;5;33mLSTM\u001b[0m)                        │ (\u001b[38;5;45mNone\u001b[0m, \u001b[38;5;34m4\u001b[0m, \u001b[38;5;34m64\u001b[0m)               │          \u001b[38;5;34m38,656\u001b[0m │\n",
              "├──────────────────────────────────────┼─────────────────────────────┼─────────────────┤\n",
              "│ dropout_1 (\u001b[38;5;33mDropout\u001b[0m)                  │ (\u001b[38;5;45mNone\u001b[0m, \u001b[38;5;34m4\u001b[0m, \u001b[38;5;34m64\u001b[0m)               │               \u001b[38;5;34m0\u001b[0m │\n",
              "├──────────────────────────────────────┼─────────────────────────────┼─────────────────┤\n",
              "│ lstm_3 (\u001b[38;5;33mLSTM\u001b[0m)                        │ (\u001b[38;5;45mNone\u001b[0m, \u001b[38;5;34m32\u001b[0m)                  │          \u001b[38;5;34m12,416\u001b[0m │\n",
              "├──────────────────────────────────────┼─────────────────────────────┼─────────────────┤\n",
              "│ dense_1 (\u001b[38;5;33mDense\u001b[0m)                      │ (\u001b[38;5;45mNone\u001b[0m, \u001b[38;5;34m86\u001b[0m)                  │           \u001b[38;5;34m2,838\u001b[0m │\n",
              "└──────────────────────────────────────┴─────────────────────────────┴─────────────────┘\n"
            ],
            "text/html": [
              "<pre style=\"white-space:pre;overflow-x:auto;line-height:normal;font-family:Menlo,'DejaVu Sans Mono',consolas,'Courier New',monospace\">┏━━━━━━━━━━━━━━━━━━━━━━━━━━━━━━━━━━━━━━┳━━━━━━━━━━━━━━━━━━━━━━━━━━━━━┳━━━━━━━━━━━━━━━━━┓\n",
              "┃<span style=\"font-weight: bold\"> Layer (type)                         </span>┃<span style=\"font-weight: bold\"> Output Shape                </span>┃<span style=\"font-weight: bold\">         Param # </span>┃\n",
              "┡━━━━━━━━━━━━━━━━━━━━━━━━━━━━━━━━━━━━━━╇━━━━━━━━━━━━━━━━━━━━━━━━━━━━━╇━━━━━━━━━━━━━━━━━┩\n",
              "│ lstm_2 (<span style=\"color: #0087ff; text-decoration-color: #0087ff\">LSTM</span>)                        │ (<span style=\"color: #00d7ff; text-decoration-color: #00d7ff\">None</span>, <span style=\"color: #00af00; text-decoration-color: #00af00\">4</span>, <span style=\"color: #00af00; text-decoration-color: #00af00\">64</span>)               │          <span style=\"color: #00af00; text-decoration-color: #00af00\">38,656</span> │\n",
              "├──────────────────────────────────────┼─────────────────────────────┼─────────────────┤\n",
              "│ dropout_1 (<span style=\"color: #0087ff; text-decoration-color: #0087ff\">Dropout</span>)                  │ (<span style=\"color: #00d7ff; text-decoration-color: #00d7ff\">None</span>, <span style=\"color: #00af00; text-decoration-color: #00af00\">4</span>, <span style=\"color: #00af00; text-decoration-color: #00af00\">64</span>)               │               <span style=\"color: #00af00; text-decoration-color: #00af00\">0</span> │\n",
              "├──────────────────────────────────────┼─────────────────────────────┼─────────────────┤\n",
              "│ lstm_3 (<span style=\"color: #0087ff; text-decoration-color: #0087ff\">LSTM</span>)                        │ (<span style=\"color: #00d7ff; text-decoration-color: #00d7ff\">None</span>, <span style=\"color: #00af00; text-decoration-color: #00af00\">32</span>)                  │          <span style=\"color: #00af00; text-decoration-color: #00af00\">12,416</span> │\n",
              "├──────────────────────────────────────┼─────────────────────────────┼─────────────────┤\n",
              "│ dense_1 (<span style=\"color: #0087ff; text-decoration-color: #0087ff\">Dense</span>)                      │ (<span style=\"color: #00d7ff; text-decoration-color: #00d7ff\">None</span>, <span style=\"color: #00af00; text-decoration-color: #00af00\">86</span>)                  │           <span style=\"color: #00af00; text-decoration-color: #00af00\">2,838</span> │\n",
              "└──────────────────────────────────────┴─────────────────────────────┴─────────────────┘\n",
              "</pre>\n"
            ]
          },
          "metadata": {}
        },
        {
          "output_type": "display_data",
          "data": {
            "text/plain": [
              "\u001b[1m Total params: \u001b[0m\u001b[38;5;34m53,910\u001b[0m (210.59 KB)\n"
            ],
            "text/html": [
              "<pre style=\"white-space:pre;overflow-x:auto;line-height:normal;font-family:Menlo,'DejaVu Sans Mono',consolas,'Courier New',monospace\"><span style=\"font-weight: bold\"> Total params: </span><span style=\"color: #00af00; text-decoration-color: #00af00\">53,910</span> (210.59 KB)\n",
              "</pre>\n"
            ]
          },
          "metadata": {}
        },
        {
          "output_type": "display_data",
          "data": {
            "text/plain": [
              "\u001b[1m Trainable params: \u001b[0m\u001b[38;5;34m53,910\u001b[0m (210.59 KB)\n"
            ],
            "text/html": [
              "<pre style=\"white-space:pre;overflow-x:auto;line-height:normal;font-family:Menlo,'DejaVu Sans Mono',consolas,'Courier New',monospace\"><span style=\"font-weight: bold\"> Trainable params: </span><span style=\"color: #00af00; text-decoration-color: #00af00\">53,910</span> (210.59 KB)\n",
              "</pre>\n"
            ]
          },
          "metadata": {}
        },
        {
          "output_type": "display_data",
          "data": {
            "text/plain": [
              "\u001b[1m Non-trainable params: \u001b[0m\u001b[38;5;34m0\u001b[0m (0.00 B)\n"
            ],
            "text/html": [
              "<pre style=\"white-space:pre;overflow-x:auto;line-height:normal;font-family:Menlo,'DejaVu Sans Mono',consolas,'Courier New',monospace\"><span style=\"font-weight: bold\"> Non-trainable params: </span><span style=\"color: #00af00; text-decoration-color: #00af00\">0</span> (0.00 B)\n",
              "</pre>\n"
            ]
          },
          "metadata": {}
        }
      ]
    },
    {
      "cell_type": "code",
      "source": [
        "history = model.fit(\n",
        "    X_train, y_train,\n",
        "    epochs=20,\n",
        "    batch_size=8,\n",
        "    validation_data=(X_test, y_test),\n",
        "    verbose=1\n",
        ")"
      ],
      "metadata": {
        "colab": {
          "base_uri": "https://localhost:8080/"
        },
        "id": "1CpuSxQemI87",
        "outputId": "54be408f-6226-4dd2-9dfa-ba0113aed8bb"
      },
      "execution_count": 99,
      "outputs": [
        {
          "output_type": "stream",
          "name": "stdout",
          "text": [
            "Epoch 1/20\n",
            "\u001b[1m2/2\u001b[0m \u001b[32m━━━━━━━━━━━━━━━━━━━━\u001b[0m\u001b[37m\u001b[0m \u001b[1m5s\u001b[0m 473ms/step - loss: 0.9813 - val_loss: 0.9242\n",
            "Epoch 2/20\n",
            "\u001b[1m2/2\u001b[0m \u001b[32m━━━━━━━━━━━━━━━━━━━━\u001b[0m\u001b[37m\u001b[0m \u001b[1m0s\u001b[0m 70ms/step - loss: 0.9281 - val_loss: 0.8785\n",
            "Epoch 3/20\n",
            "\u001b[1m2/2\u001b[0m \u001b[32m━━━━━━━━━━━━━━━━━━━━\u001b[0m\u001b[37m\u001b[0m \u001b[1m0s\u001b[0m 72ms/step - loss: 0.8884 - val_loss: 0.8350\n",
            "Epoch 4/20\n",
            "\u001b[1m2/2\u001b[0m \u001b[32m━━━━━━━━━━━━━━━━━━━━\u001b[0m\u001b[37m\u001b[0m \u001b[1m0s\u001b[0m 65ms/step - loss: 0.8483 - val_loss: 0.7887\n",
            "Epoch 5/20\n",
            "\u001b[1m2/2\u001b[0m \u001b[32m━━━━━━━━━━━━━━━━━━━━\u001b[0m\u001b[37m\u001b[0m \u001b[1m0s\u001b[0m 71ms/step - loss: 0.7982 - val_loss: 0.7380\n",
            "Epoch 6/20\n",
            "\u001b[1m2/2\u001b[0m \u001b[32m━━━━━━━━━━━━━━━━━━━━\u001b[0m\u001b[37m\u001b[0m \u001b[1m0s\u001b[0m 71ms/step - loss: 0.7482 - val_loss: 0.6830\n",
            "Epoch 7/20\n",
            "\u001b[1m2/2\u001b[0m \u001b[32m━━━━━━━━━━━━━━━━━━━━\u001b[0m\u001b[37m\u001b[0m \u001b[1m0s\u001b[0m 71ms/step - loss: 0.6968 - val_loss: 0.6258\n",
            "Epoch 8/20\n",
            "\u001b[1m2/2\u001b[0m \u001b[32m━━━━━━━━━━━━━━━━━━━━\u001b[0m\u001b[37m\u001b[0m \u001b[1m0s\u001b[0m 66ms/step - loss: 0.6422 - val_loss: 0.5690\n",
            "Epoch 9/20\n",
            "\u001b[1m2/2\u001b[0m \u001b[32m━━━━━━━━━━━━━━━━━━━━\u001b[0m\u001b[37m\u001b[0m \u001b[1m0s\u001b[0m 68ms/step - loss: 0.5937 - val_loss: 0.5149\n",
            "Epoch 10/20\n",
            "\u001b[1m2/2\u001b[0m \u001b[32m━━━━━━━━━━━━━━━━━━━━\u001b[0m\u001b[37m\u001b[0m \u001b[1m0s\u001b[0m 70ms/step - loss: 0.5454 - val_loss: 0.4645\n",
            "Epoch 11/20\n",
            "\u001b[1m2/2\u001b[0m \u001b[32m━━━━━━━━━━━━━━━━━━━━\u001b[0m\u001b[37m\u001b[0m \u001b[1m0s\u001b[0m 70ms/step - loss: 0.4871 - val_loss: 0.4180\n",
            "Epoch 12/20\n",
            "\u001b[1m2/2\u001b[0m \u001b[32m━━━━━━━━━━━━━━━━━━━━\u001b[0m\u001b[37m\u001b[0m \u001b[1m0s\u001b[0m 71ms/step - loss: 0.4456 - val_loss: 0.3765\n",
            "Epoch 13/20\n",
            "\u001b[1m2/2\u001b[0m \u001b[32m━━━━━━━━━━━━━━━━━━━━\u001b[0m\u001b[37m\u001b[0m \u001b[1m0s\u001b[0m 82ms/step - loss: 0.4126 - val_loss: 0.3400\n",
            "Epoch 14/20\n",
            "\u001b[1m2/2\u001b[0m \u001b[32m━━━━━━━━━━━━━━━━━━━━\u001b[0m\u001b[37m\u001b[0m \u001b[1m0s\u001b[0m 78ms/step - loss: 0.3743 - val_loss: 0.3085\n",
            "Epoch 15/20\n",
            "\u001b[1m2/2\u001b[0m \u001b[32m━━━━━━━━━━━━━━━━━━━━\u001b[0m\u001b[37m\u001b[0m \u001b[1m0s\u001b[0m 80ms/step - loss: 0.3243 - val_loss: 0.2816\n",
            "Epoch 16/20\n",
            "\u001b[1m2/2\u001b[0m \u001b[32m━━━━━━━━━━━━━━━━━━━━\u001b[0m\u001b[37m\u001b[0m \u001b[1m0s\u001b[0m 67ms/step - loss: 0.3083 - val_loss: 0.2588\n",
            "Epoch 17/20\n",
            "\u001b[1m2/2\u001b[0m \u001b[32m━━━━━━━━━━━━━━━━━━━━\u001b[0m\u001b[37m\u001b[0m \u001b[1m0s\u001b[0m 72ms/step - loss: 0.2827 - val_loss: 0.2394\n",
            "Epoch 18/20\n",
            "\u001b[1m2/2\u001b[0m \u001b[32m━━━━━━━━━━━━━━━━━━━━\u001b[0m\u001b[37m\u001b[0m \u001b[1m0s\u001b[0m 68ms/step - loss: 0.2646 - val_loss: 0.2227\n",
            "Epoch 19/20\n",
            "\u001b[1m2/2\u001b[0m \u001b[32m━━━━━━━━━━━━━━━━━━━━\u001b[0m\u001b[37m\u001b[0m \u001b[1m0s\u001b[0m 70ms/step - loss: 0.2219 - val_loss: 0.2089\n",
            "Epoch 20/20\n",
            "\u001b[1m2/2\u001b[0m \u001b[32m━━━━━━━━━━━━━━━━━━━━\u001b[0m\u001b[37m\u001b[0m \u001b[1m0s\u001b[0m 71ms/step - loss: 0.2494 - val_loss: 0.1978\n"
          ]
        }
      ]
    },
    {
      "cell_type": "code",
      "source": [
        "import matplotlib.pyplot as plt\n",
        "\n",
        "# Predict on test set\n",
        "predictions = model.predict(X_test)\n",
        "\n",
        "# Inverse scaling\n",
        "true_values = scaler.inverse_transform(y_test)\n",
        "predicted_values = scaler.inverse_transform(predictions)\n",
        "\n",
        "# Plot first aspect\n",
        "aspect_index = 0\n",
        "plt.figure(figsize=(10, 4))\n",
        "plt.plot(true_values[:, aspect_index], label='Actual')\n",
        "plt.plot(predicted_values[:, aspect_index], label='Predicted')\n",
        "plt.title(f\"Sentiment Predictions for '{valid_aspects[aspect_index]}'\")\n",
        "plt.xlabel(\"Time Steps\")\n",
        "plt.ylabel(\"Sentiment Score\")\n",
        "plt.legend()\n",
        "plt.show()"
      ],
      "metadata": {
        "colab": {
          "base_uri": "https://localhost:8080/",
          "height": 427
        },
        "id": "eEmN4DHLmPrt",
        "outputId": "e21ad3e1-d90d-480f-bef3-a4382be7c3e2"
      },
      "execution_count": 100,
      "outputs": [
        {
          "output_type": "stream",
          "name": "stdout",
          "text": [
            "\u001b[1m1/1\u001b[0m \u001b[32m━━━━━━━━━━━━━━━━━━━━\u001b[0m\u001b[37m\u001b[0m \u001b[1m0s\u001b[0m 337ms/step\n"
          ]
        },
        {
          "output_type": "display_data",
          "data": {
            "text/plain": [
              "<Figure size 1000x400 with 1 Axes>"
            ],
            "image/png": "[encoded data removed]"
          },
          "metadata": {}
        }
      ]
    },
    {
      "cell_type": "code",
      "source": [
        "# Visualize aspect frequency\n",
        "plt.figure(figsize=(10,4))\n",
        "aspect_summary['count'][:20].plot(kind='bar')\n",
        "plt.title(\"Top 20 Aspect Frequencies\")\n",
        "plt.ylabel(\"Number of Mentions\")\n",
        "plt.axhline(y=min_threshold, color='r', linestyle='--', label='Minimum Threshold')\n",
        "plt.show()"
      ],
      "metadata": {
        "colab": {
          "base_uri": "https://localhost:8080/",
          "height": 394
        },
        "id": "URxWg7-vpLAU",
        "outputId": "69ed373e-2a35-493a-eedc-9606a4440ea1"
      },
      "execution_count": 103,
      "outputs": [
        {
          "output_type": "display_data",
          "data": {
            "text/plain": [
              "<Figure size 1000x400 with 1 Axes>"
            ],
            "image/png": "[encoded data removed]"
          },
          "metadata": {}
        }
      ]
    }
  ]
}